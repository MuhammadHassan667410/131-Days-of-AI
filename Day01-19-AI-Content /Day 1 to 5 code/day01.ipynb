# Day 01 - Jupyter Notebook

# Day 01 Code - Python Basics
print("Hello AI World!")
name = input("Enter your name: ")
print("Welcome", name)
x = 5
y = 2
print("Sum:", x + y)
