{
  "cells": [
    {
      "cell_type": "markdown",
      "metadata": {
        "id": "view-in-github",
        "colab_type": "text"
      },
      "source": [
        "<a href=\"https://colab.research.google.com/github/MuhammadHassan667410/131-Days-of-AI/blob/main/Day%2029%20to%2033(Unsupervised%20ML)/KMeans.ipynb\" target=\"_parent\"><img src=\"https://colab.research.google.com/assets/colab-badge.svg\" alt=\"Open In Colab\"/></a>"
      ]
    },
    {
      "cell_type": "code",
      "execution_count": null,
      "id": "6b6aee2b-2603-43e0-84d3-38f6fe6f49b1",
      "metadata": {
        "id": "6b6aee2b-2603-43e0-84d3-38f6fe6f49b1"
      },
      "outputs": [],
      "source": [
        "import pandas as pd"
      ]
    },
    {
      "cell_type": "code",
      "execution_count": null,
      "id": "bc7d36c5-1c92-4009-9fef-b9c8d04511ed",
      "metadata": {
        "id": "bc7d36c5-1c92-4009-9fef-b9c8d04511ed"
      },
      "outputs": [],
      "source": [
        "data = pd.read_csv('Downloads/Instagram visits clustering.csv')"
      ]
    },
    {
      "cell_type": "code",
      "execution_count": null,
      "id": "6929bdea-5096-40d1-b8ed-791af614a45e",
      "metadata": {
        "scrolled": true,
        "id": "6929bdea-5096-40d1-b8ed-791af614a45e",
        "outputId": "5f512284-2aa4-4fb4-904d-645ac0ffd22c"
      },
      "outputs": [
        {
          "data": {
            "text/html": [
              "<div>\n",
              "<style scoped>\n",
              "    .dataframe tbody tr th:only-of-type {\n",
              "        vertical-align: middle;\n",
              "    }\n",
              "\n",
              "    .dataframe tbody tr th {\n",
              "        vertical-align: top;\n",
              "    }\n",
              "\n",
              "    .dataframe thead th {\n",
              "        text-align: right;\n",
              "    }\n",
              "</style>\n",
              "<table border=\"1\" class=\"dataframe\">\n",
              "  <thead>\n",
              "    <tr style=\"text-align: right;\">\n",
              "      <th></th>\n",
              "      <th>User ID</th>\n",
              "      <th>Instagram visit score</th>\n",
              "      <th>Spending_rank(0 to 100)</th>\n",
              "    </tr>\n",
              "  </thead>\n",
              "  <tbody>\n",
              "    <tr>\n",
              "      <th>0</th>\n",
              "      <td>0</td>\n",
              "      <td>63</td>\n",
              "      <td>24.050708</td>\n",
              "    </tr>\n",
              "    <tr>\n",
              "      <th>1</th>\n",
              "      <td>1</td>\n",
              "      <td>61</td>\n",
              "      <td>25.223290</td>\n",
              "    </tr>\n",
              "    <tr>\n",
              "      <th>2</th>\n",
              "      <td>2</td>\n",
              "      <td>104</td>\n",
              "      <td>18.528245</td>\n",
              "    </tr>\n",
              "    <tr>\n",
              "      <th>3</th>\n",
              "      <td>3</td>\n",
              "      <td>82</td>\n",
              "      <td>86.890232</td>\n",
              "    </tr>\n",
              "    <tr>\n",
              "      <th>4</th>\n",
              "      <td>4</td>\n",
              "      <td>14</td>\n",
              "      <td>31.492397</td>\n",
              "    </tr>\n",
              "    <tr>\n",
              "      <th>...</th>\n",
              "      <td>...</td>\n",
              "      <td>...</td>\n",
              "      <td>...</td>\n",
              "    </tr>\n",
              "    <tr>\n",
              "      <th>2595</th>\n",
              "      <td>2595</td>\n",
              "      <td>25</td>\n",
              "      <td>25.745908</td>\n",
              "    </tr>\n",
              "    <tr>\n",
              "      <th>2596</th>\n",
              "      <td>2596</td>\n",
              "      <td>52</td>\n",
              "      <td>9.275066</td>\n",
              "    </tr>\n",
              "    <tr>\n",
              "      <th>2597</th>\n",
              "      <td>2597</td>\n",
              "      <td>100</td>\n",
              "      <td>84.999487</td>\n",
              "    </tr>\n",
              "    <tr>\n",
              "      <th>2598</th>\n",
              "      <td>2598</td>\n",
              "      <td>87</td>\n",
              "      <td>20.530806</td>\n",
              "    </tr>\n",
              "    <tr>\n",
              "      <th>2599</th>\n",
              "      <td>2599</td>\n",
              "      <td>34</td>\n",
              "      <td>76.388622</td>\n",
              "    </tr>\n",
              "  </tbody>\n",
              "</table>\n",
              "<p>2600 rows × 3 columns</p>\n",
              "</div>"
            ],
            "text/plain": [
              "      User ID  Instagram visit score  Spending_rank(0 to 100)\n",
              "0           0                     63                24.050708\n",
              "1           1                     61                25.223290\n",
              "2           2                    104                18.528245\n",
              "3           3                     82                86.890232\n",
              "4           4                     14                31.492397\n",
              "...       ...                    ...                      ...\n",
              "2595     2595                     25                25.745908\n",
              "2596     2596                     52                 9.275066\n",
              "2597     2597                    100                84.999487\n",
              "2598     2598                     87                20.530806\n",
              "2599     2599                     34                76.388622\n",
              "\n",
              "[2600 rows x 3 columns]"
            ]
          },
          "execution_count": 4,
          "metadata": {},
          "output_type": "execute_result"
        }
      ],
      "source": [
        "data"
      ]
    },
    {
      "cell_type": "code",
      "execution_count": null,
      "id": "e6bfc3ff-06ce-4101-959f-f7d4dc952d76",
      "metadata": {
        "id": "e6bfc3ff-06ce-4101-959f-f7d4dc952d76"
      },
      "outputs": [],
      "source": [
        "from sklearn.preprocessing import MinMaxScaler\n",
        "scaler = MinMaxScaler()\n",
        "data['Instagram visit score'] = scaler.fit_transform(data[['Instagram visit score']])\n",
        "data['Spending_rank(0 to 100)'] = scaler.fit_transform(data[['Spending_rank(0 to 100)']])\n"
      ]
    },
    {
      "cell_type": "code",
      "execution_count": null,
      "id": "9427a3b6-a31a-4268-8a65-ab85dbdeaa93",
      "metadata": {
        "id": "9427a3b6-a31a-4268-8a65-ab85dbdeaa93",
        "outputId": "6be9faa0-a024-453e-df57-b052ac2f175d"
      },
      "outputs": [
        {
          "data": {
            "text/html": [
              "<div>\n",
              "<style scoped>\n",
              "    .dataframe tbody tr th:only-of-type {\n",
              "        vertical-align: middle;\n",
              "    }\n",
              "\n",
              "    .dataframe tbody tr th {\n",
              "        vertical-align: top;\n",
              "    }\n",
              "\n",
              "    .dataframe thead th {\n",
              "        text-align: right;\n",
              "    }\n",
              "</style>\n",
              "<table border=\"1\" class=\"dataframe\">\n",
              "  <thead>\n",
              "    <tr style=\"text-align: right;\">\n",
              "      <th></th>\n",
              "      <th>User ID</th>\n",
              "      <th>Instagram visit score</th>\n",
              "      <th>Spending_rank(0 to 100)</th>\n",
              "    </tr>\n",
              "  </thead>\n",
              "  <tbody>\n",
              "    <tr>\n",
              "      <th>0</th>\n",
              "      <td>0.000000</td>\n",
              "      <td>0.513274</td>\n",
              "      <td>0.217181</td>\n",
              "    </tr>\n",
              "    <tr>\n",
              "      <th>1</th>\n",
              "      <td>0.000385</td>\n",
              "      <td>0.495575</td>\n",
              "      <td>0.228200</td>\n",
              "    </tr>\n",
              "    <tr>\n",
              "      <th>2</th>\n",
              "      <td>0.000770</td>\n",
              "      <td>0.876106</td>\n",
              "      <td>0.165282</td>\n",
              "    </tr>\n",
              "    <tr>\n",
              "      <th>3</th>\n",
              "      <td>0.001154</td>\n",
              "      <td>0.681416</td>\n",
              "      <td>0.807727</td>\n",
              "    </tr>\n",
              "    <tr>\n",
              "      <th>4</th>\n",
              "      <td>0.001539</td>\n",
              "      <td>0.079646</td>\n",
              "      <td>0.287115</td>\n",
              "    </tr>\n",
              "    <tr>\n",
              "      <th>...</th>\n",
              "      <td>...</td>\n",
              "      <td>...</td>\n",
              "      <td>...</td>\n",
              "    </tr>\n",
              "    <tr>\n",
              "      <th>2595</th>\n",
              "      <td>0.998461</td>\n",
              "      <td>0.176991</td>\n",
              "      <td>0.233112</td>\n",
              "    </tr>\n",
              "    <tr>\n",
              "      <th>2596</th>\n",
              "      <td>0.998846</td>\n",
              "      <td>0.415929</td>\n",
              "      <td>0.078324</td>\n",
              "    </tr>\n",
              "    <tr>\n",
              "      <th>2597</th>\n",
              "      <td>0.999230</td>\n",
              "      <td>0.840708</td>\n",
              "      <td>0.789958</td>\n",
              "    </tr>\n",
              "    <tr>\n",
              "      <th>2598</th>\n",
              "      <td>0.999615</td>\n",
              "      <td>0.725664</td>\n",
              "      <td>0.184102</td>\n",
              "    </tr>\n",
              "    <tr>\n",
              "      <th>2599</th>\n",
              "      <td>1.000000</td>\n",
              "      <td>0.256637</td>\n",
              "      <td>0.709036</td>\n",
              "    </tr>\n",
              "  </tbody>\n",
              "</table>\n",
              "<p>2600 rows × 3 columns</p>\n",
              "</div>"
            ],
            "text/plain": [
              "       User ID  Instagram visit score  Spending_rank(0 to 100)\n",
              "0     0.000000               0.513274                 0.217181\n",
              "1     0.000385               0.495575                 0.228200\n",
              "2     0.000770               0.876106                 0.165282\n",
              "3     0.001154               0.681416                 0.807727\n",
              "4     0.001539               0.079646                 0.287115\n",
              "...        ...                    ...                      ...\n",
              "2595  0.998461               0.176991                 0.233112\n",
              "2596  0.998846               0.415929                 0.078324\n",
              "2597  0.999230               0.840708                 0.789958\n",
              "2598  0.999615               0.725664                 0.184102\n",
              "2599  1.000000               0.256637                 0.709036\n",
              "\n",
              "[2600 rows x 3 columns]"
            ]
          },
          "execution_count": 12,
          "metadata": {},
          "output_type": "execute_result"
        }
      ],
      "source": [
        "data"
      ]
    },
    {
      "cell_type": "code",
      "execution_count": null,
      "id": "2ade91d2-a08f-4516-985e-212412ae11e5",
      "metadata": {
        "id": "2ade91d2-a08f-4516-985e-212412ae11e5"
      },
      "outputs": [],
      "source": [
        "from sklearn.cluster import KMeans"
      ]
    },
    {
      "cell_type": "code",
      "execution_count": null,
      "id": "ff930170-6eac-4b35-b203-e03f607e889b",
      "metadata": {
        "id": "ff930170-6eac-4b35-b203-e03f607e889b"
      },
      "outputs": [],
      "source": [
        "k_range = range(1,15)\n",
        "sse = []\n",
        "for k in k_range:\n",
        "    km = KMeans(n_clusters= k)\n",
        "    km.fit(data[['Instagram visit score', 'Spending_rank(0 to 100)']])\n",
        "    sse.append(km.inertia_)"
      ]
    },
    {
      "cell_type": "code",
      "execution_count": null,
      "id": "747b5a62-d49f-4a94-b56a-8e86a88050a6",
      "metadata": {
        "id": "747b5a62-d49f-4a94-b56a-8e86a88050a6",
        "outputId": "dffa0623-ad4f-4c53-835f-71d61ab53364"
      },
      "outputs": [
        {
          "data": {
            "text/plain": [
              "[<matplotlib.lines.Line2D at 0x18d1f5f0910>]"
            ]
          },
          "execution_count": 19,
          "metadata": {},
          "output_type": "execute_result"
        },
        {
          "data": {
            "image/png": "[encoded data removed]",
            "text/plain": [
              "<Figure size 640x480 with 1 Axes>"
            ]
          },
          "metadata": {},
          "output_type": "display_data"
        }
      ],
      "source": [
        "import matplotlib.pyplot as plt\n",
        "plt.plot(k_range, sse, marker='o')"
      ]
    },
    {
      "cell_type": "code",
      "execution_count": null,
      "id": "5404df11-8e3b-4428-8866-170abc633d73",
      "metadata": {
        "id": "5404df11-8e3b-4428-8866-170abc633d73"
      },
      "outputs": [],
      "source": [
        "KM = KMeans(n_clusters= 5)\n",
        "y_pred = KM.fit_predict(data[['Instagram visit score', 'Spending_rank(0 to 100)']])"
      ]
    },
    {
      "cell_type": "code",
      "execution_count": null,
      "id": "1a747b9a-44c8-4000-a6b8-ec522cf5c0ea",
      "metadata": {
        "id": "1a747b9a-44c8-4000-a6b8-ec522cf5c0ea",
        "outputId": "7a0ef4ca-48e0-470c-a5a2-5776786e1fff"
      },
      "outputs": [
        {
          "data": {
            "text/plain": [
              "array([0, 0, 0, ..., 1, 0, 4], shape=(2600,), dtype=int32)"
            ]
          },
          "execution_count": 23,
          "metadata": {},
          "output_type": "execute_result"
        }
      ],
      "source": [
        "y_pred"
      ]
    },
    {
      "cell_type": "code",
      "execution_count": null,
      "id": "61f66441-ce8c-498d-b8bd-98b19a6d5a33",
      "metadata": {
        "id": "61f66441-ce8c-498d-b8bd-98b19a6d5a33"
      },
      "outputs": [],
      "source": [
        "data['Clusters'] = y_pred"
      ]
    },
    {
      "cell_type": "code",
      "execution_count": null,
      "id": "7809c686-5023-47d9-8d9b-ac2b59a99292",
      "metadata": {
        "id": "7809c686-5023-47d9-8d9b-ac2b59a99292",
        "outputId": "45042a6b-056e-4ace-cddb-2314703a89c5"
      },
      "outputs": [
        {
          "data": {
            "text/html": [
              "<div>\n",
              "<style scoped>\n",
              "    .dataframe tbody tr th:only-of-type {\n",
              "        vertical-align: middle;\n",
              "    }\n",
              "\n",
              "    .dataframe tbody tr th {\n",
              "        vertical-align: top;\n",
              "    }\n",
              "\n",
              "    .dataframe thead th {\n",
              "        text-align: right;\n",
              "    }\n",
              "</style>\n",
              "<table border=\"1\" class=\"dataframe\">\n",
              "  <thead>\n",
              "    <tr style=\"text-align: right;\">\n",
              "      <th></th>\n",
              "      <th>User ID</th>\n",
              "      <th>Instagram visit score</th>\n",
              "      <th>Spending_rank(0 to 100)</th>\n",
              "      <th>Clusters</th>\n",
              "    </tr>\n",
              "  </thead>\n",
              "  <tbody>\n",
              "    <tr>\n",
              "      <th>0</th>\n",
              "      <td>0.000000</td>\n",
              "      <td>0.513274</td>\n",
              "      <td>0.217181</td>\n",
              "      <td>0</td>\n",
              "    </tr>\n",
              "    <tr>\n",
              "      <th>1</th>\n",
              "      <td>0.000385</td>\n",
              "      <td>0.495575</td>\n",
              "      <td>0.228200</td>\n",
              "      <td>0</td>\n",
              "    </tr>\n",
              "    <tr>\n",
              "      <th>2</th>\n",
              "      <td>0.000770</td>\n",
              "      <td>0.876106</td>\n",
              "      <td>0.165282</td>\n",
              "      <td>0</td>\n",
              "    </tr>\n",
              "    <tr>\n",
              "      <th>3</th>\n",
              "      <td>0.001154</td>\n",
              "      <td>0.681416</td>\n",
              "      <td>0.807727</td>\n",
              "      <td>1</td>\n",
              "    </tr>\n",
              "    <tr>\n",
              "      <th>4</th>\n",
              "      <td>0.001539</td>\n",
              "      <td>0.079646</td>\n",
              "      <td>0.287115</td>\n",
              "      <td>3</td>\n",
              "    </tr>\n",
              "    <tr>\n",
              "      <th>...</th>\n",
              "      <td>...</td>\n",
              "      <td>...</td>\n",
              "      <td>...</td>\n",
              "      <td>...</td>\n",
              "    </tr>\n",
              "    <tr>\n",
              "      <th>2595</th>\n",
              "      <td>0.998461</td>\n",
              "      <td>0.176991</td>\n",
              "      <td>0.233112</td>\n",
              "      <td>3</td>\n",
              "    </tr>\n",
              "    <tr>\n",
              "      <th>2596</th>\n",
              "      <td>0.998846</td>\n",
              "      <td>0.415929</td>\n",
              "      <td>0.078324</td>\n",
              "      <td>3</td>\n",
              "    </tr>\n",
              "    <tr>\n",
              "      <th>2597</th>\n",
              "      <td>0.999230</td>\n",
              "      <td>0.840708</td>\n",
              "      <td>0.789958</td>\n",
              "      <td>1</td>\n",
              "    </tr>\n",
              "    <tr>\n",
              "      <th>2598</th>\n",
              "      <td>0.999615</td>\n",
              "      <td>0.725664</td>\n",
              "      <td>0.184102</td>\n",
              "      <td>0</td>\n",
              "    </tr>\n",
              "    <tr>\n",
              "      <th>2599</th>\n",
              "      <td>1.000000</td>\n",
              "      <td>0.256637</td>\n",
              "      <td>0.709036</td>\n",
              "      <td>4</td>\n",
              "    </tr>\n",
              "  </tbody>\n",
              "</table>\n",
              "<p>2600 rows × 4 columns</p>\n",
              "</div>"
            ],
            "text/plain": [
              "       User ID  Instagram visit score  Spending_rank(0 to 100)  Clusters\n",
              "0     0.000000               0.513274                 0.217181         0\n",
              "1     0.000385               0.495575                 0.228200         0\n",
              "2     0.000770               0.876106                 0.165282         0\n",
              "3     0.001154               0.681416                 0.807727         1\n",
              "4     0.001539               0.079646                 0.287115         3\n",
              "...        ...                    ...                      ...       ...\n",
              "2595  0.998461               0.176991                 0.233112         3\n",
              "2596  0.998846               0.415929                 0.078324         3\n",
              "2597  0.999230               0.840708                 0.789958         1\n",
              "2598  0.999615               0.725664                 0.184102         0\n",
              "2599  1.000000               0.256637                 0.709036         4\n",
              "\n",
              "[2600 rows x 4 columns]"
            ]
          },
          "execution_count": 25,
          "metadata": {},
          "output_type": "execute_result"
        }
      ],
      "source": [
        "data"
      ]
    },
    {
      "cell_type": "code",
      "execution_count": null,
      "id": "85d9ea05-db87-4c19-8828-a47981a14d78",
      "metadata": {
        "id": "85d9ea05-db87-4c19-8828-a47981a14d78"
      },
      "outputs": [],
      "source": [
        "data1 = data[data['Clusters']==0]\n",
        "data2 = data[data['Clusters']==1]\n",
        "data3 = data[data['Clusters']==2]\n",
        "data4 = data[data['Clusters']==3]\n",
        "data5 = data[data['Clusters']==4]"
      ]
    },
    {
      "cell_type": "code",
      "execution_count": null,
      "id": "ad8909ea-60f6-4b3d-a040-d276bc57b20e",
      "metadata": {
        "id": "ad8909ea-60f6-4b3d-a040-d276bc57b20e",
        "outputId": "7ad45370-21f4-4c98-d412-a265b6e1125c"
      },
      "outputs": [
        {
          "data": {
            "text/plain": [
              "array([[0.69308283, 0.17752041],\n",
              "       [0.66054043, 0.79048069],\n",
              "       [0.32496808, 0.54058957],\n",
              "       [0.19740248, 0.2188044 ],\n",
              "       [0.28556011, 0.65901447]])"
            ]
          },
          "execution_count": 33,
          "metadata": {},
          "output_type": "execute_result"
        }
      ],
      "source": [
        "center = KM.cluster_centers_\n",
        "center"
      ]
    },
    {
      "cell_type": "code",
      "execution_count": null,
      "id": "a887cc42-fd22-488b-bddd-f898a7d1925e",
      "metadata": {
        "id": "a887cc42-fd22-488b-bddd-f898a7d1925e",
        "outputId": "f44f55e2-6a30-4087-f9a3-e22111108531"
      },
      "outputs": [
        {
          "data": {
            "image/png": "[encoded data removed]",
            "text/plain": [
              "<Figure size 640x480 with 1 Axes>"
            ]
          },
          "metadata": {},
          "output_type": "display_data"
        }
      ],
      "source": [
        "plt.scatter(data1['Instagram visit score'], data1['Spending_rank(0 to 100)'], label='Cluster 1')\n",
        "plt.scatter(data2['Instagram visit score'], data2['Spending_rank(0 to 100)'], label='Cluster 2')\n",
        "plt.scatter(data3['Instagram visit score'], data3['Spending_rank(0 to 100)'], label='Cluster 3')\n",
        "plt.scatter(data4['Instagram visit score'], data4['Spending_rank(0 to 100)'], label='Cluster 4')\n",
        "plt.scatter(data5['Instagram visit score'], data5['Spending_rank(0 to 100)'], label='Cluster 5')\n",
        "plt.scatter(center[:, 0], center[:, 1], marker='*')\n",
        "plt.legend()\n",
        "plt.show()"
      ]
    },
    {
      "cell_type": "code",
      "execution_count": null,
      "id": "90ef33f7-cec4-4725-b599-d11504fbbfd6",
      "metadata": {
        "id": "90ef33f7-cec4-4725-b599-d11504fbbfd6"
      },
      "outputs": [],
      "source": []
    },
    {
      "cell_type": "code",
      "execution_count": null,
      "id": "36fc5749-1ec3-4c54-b6c5-a95ee6617ea9",
      "metadata": {
        "id": "36fc5749-1ec3-4c54-b6c5-a95ee6617ea9"
      },
      "outputs": [],
      "source": []
    },
    {
      "cell_type": "code",
      "execution_count": null,
      "id": "0d03ad44-2b16-489c-8eeb-7a7402ad7c3a",
      "metadata": {
        "id": "0d03ad44-2b16-489c-8eeb-7a7402ad7c3a"
      },
      "outputs": [],
      "source": []
    }
  ],
  "metadata": {
    "kernelspec": {
      "display_name": "Python 3 (ipykernel)",
      "language": "python",
      "name": "python3"
    },
    "language_info": {
      "codemirror_mode": {
        "name": "ipython",
        "version": 3
      },
      "file_extension": ".py",
      "mimetype": "text/x-python",
      "name": "python",
      "nbconvert_exporter": "python",
      "pygments_lexer": "ipython3",
      "version": "3.13.5"
    },
    "colab": {
      "provenance": [],
      "include_colab_link": true
    }
  },
  "nbformat": 4,
  "nbformat_minor": 5
}